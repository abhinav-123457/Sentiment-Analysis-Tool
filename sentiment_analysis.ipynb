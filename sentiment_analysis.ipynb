!pip install nltk
!pip install scikit-learn
!pip install pandas
!pip install numpy

import nltk
from nltk.corpus import movie_reviews
import random
import pandas as pd
from nltk.corpus import stopwords
from nltk.stem import WordNetLemmatizer
import string
from sklearn.feature_extraction.text import CountVectorizer
from sklearn.model_selection import train_test_split
from sklearn.naive_bayes import MultinomialNB
from sklearn.metrics import accuracy_score, classification_report

# Download necessary NLTK data
nltk.download('movie_reviews')
nltk.download('stopwords')
nltk.download('wordnet')

# Load the dataset
documents = [(list(movie_reviews.words(fileid)), category)
             for category in movie_reviews.categories()
             for fileid in movie_reviews.fileids(category)]

# Shuffle the documents
random.shuffle(documents)

# Convert to a DataFrame for easier handling
df = pd.DataFrame(documents, columns=['words', 'label'])

# Preprocessing functions
stop_words = set(stopwords.words('english'))
lemmatizer = WordNetLemmatizer()

def preprocess(words):
    words = [word.lower() for word in words if word.isalpha()]
    words = [word for word in words if word not in stop_words]
    words = [lemmatizer.lemmatize(word) for word in words]
    return words

# Apply preprocessing
df['cleaned_words'] = df['words'].apply(preprocess)
df['cleaned_text'] = df['cleaned_words'].apply(lambda words: ' '.join(words))

# Feature extraction
vectorizer = CountVectorizer(max_features=2000)
X = vectorizer.fit_transform(df['cleaned_text']).toarray()
y = df['label']

# Split the data
X_train, X_test, y_train, y_test = train_test_split(X, y, test_size=0.2, random_state=42)

# Train the model
model = MultinomialNB()
model.fit(X_train, y_train)

# Evaluate the model
y_pred = model.predict(X_test)
accuracy = accuracy_score(y_test, y_pred)
print(f'Accuracy: {accuracy}')
print('Classification Report:')
print(classification_report(y_test, y_pred))

# Sentiment analysis function
def analyze_sentiment(text):
    words = preprocess(text.split())
    cleaned_text = ' '.join(words)
    features = vectorizer.transform([cleaned_text]).toarray()
    prediction = model.predict(features)
    return prediction[0]

# Test the function
sample_text = "The movie was so so!"
print(f'Sentiment: {analyze_sentiment(sample_text)}')
